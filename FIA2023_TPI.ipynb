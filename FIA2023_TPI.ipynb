{
  "nbformat": 4,
  "nbformat_minor": 0,
  "metadata": {
    "colab": {
      "provenance": [],
      "authorship_tag": "ABX9TyMTcz77QByAMz/wytLXZXuk",
      "include_colab_link": true
    },
    "kernelspec": {
      "name": "ir",
      "display_name": "R"
    },
    "language_info": {
      "name": "R"
    }
  },
  "cells": [
    {
      "cell_type": "markdown",
      "metadata": {
        "id": "view-in-github",
        "colab_type": "text"
      },
      "source": [
        "<a href=\"https://colab.research.google.com/github/mati-avila/FIA-TP5/blob/main/FIA2023_TPI.ipynb\" target=\"_parent\"><img src=\"https://colab.research.google.com/assets/colab-badge.svg\" alt=\"Open In Colab\"/></a>"
      ]
    },
    {
      "cell_type": "markdown",
      "source": [
        "ALUMNO: AVILA, JORGE MATIAS - LU1738 - LICENCIATURA EN SISTEMAS"
      ],
      "metadata": {
        "id": "SE9iW-g4df4h"
      }
    },
    {
      "cell_type": "code",
      "source": [
        "install.packages('lubridate')#para trabajar con fechas\n",
        "install.packages('ggplot2')#Para graficos\n",
        "install.packages('ggdist')#Para graficos (histogramas)"
      ],
      "metadata": {
        "id": "-vyigoOLtPIS"
      },
      "execution_count": null,
      "outputs": []
    },
    {
      "cell_type": "code",
      "source": [
        "install.packages(\"e1071\")#svm\n",
        "install.packages(\"randomForest\") #randomForest\n",
        "install.packages(\"clock\") #necesaria para instalar 'caret'\n",
        "install.packages(\"fastDummies\") #para realizar el casteo (one-hot encoding)"
      ],
      "metadata": {
        "id": "BmMoD3bZMl4s"
      },
      "execution_count": null,
      "outputs": []
    },
    {
      "cell_type": "code",
      "source": [
        "install.packages(\"caret\") #para el particionado del df"
      ],
      "metadata": {
        "id": "2qIcJUv7EOWY"
      },
      "execution_count": null,
      "outputs": []
    },
    {
      "cell_type": "code",
      "source": [
        "library(lubridate)\n",
        "library(ggplot2)\n",
        "library(ggdist)\n",
        "library(dplyr)"
      ],
      "metadata": {
        "id": "5n9O1nwGtQeh"
      },
      "execution_count": null,
      "outputs": []
    },
    {
      "cell_type": "code",
      "execution_count": 5,
      "metadata": {
        "id": "GGcw4lJRsTlF"
      },
      "outputs": [],
      "source": [
        "# Los .csv deben estar cargados en el entorno, click en los tres puntos y copiamos la ruta de acceso\n",
        "df_princess <- read.csv(\"/content/princess.csv\")\n",
        "df_wine <- read.csv(\"/content/wine.csv\")"
      ]
    },
    {
      "cell_type": "code",
      "source": [
        "head(df_princess) # muestra las primeras filas del dataset, si queremos ver las últimas filas usamos tail()"
      ],
      "metadata": {
        "id": "4li-e7mOts00"
      },
      "execution_count": null,
      "outputs": []
    },
    {
      "cell_type": "code",
      "source": [
        "head(df_wine) # muestra las primeras filas del dataset, si queremos ver las últimas filas usamos tail()"
      ],
      "metadata": {
        "id": "Rxek4Wezt6n2"
      },
      "execution_count": null,
      "outputs": []
    },
    {
      "cell_type": "markdown",
      "source": [
        "**Seleccion**\n",
        "\n",
        "Seleccione el conjunto de datos sobre vinos debido a su relevancia e interés para el análisis. Podemos decir que este conjunto consta de 1599 observaciones distribuidas en 13 variables y ofrece una variedad de aspectos de los vinos, lo que permite explorar relaciones y patrones interesantes.\n",
        "La calidad del vino la hemos clasificado en dos categorías: 'quality_bad' (calidad mala) y 'quality_good' (calidad buena), proporcionando una dimensión adicional para el análisis."
      ],
      "metadata": {
        "id": "BH6datxWgf3F"
      }
    },
    {
      "cell_type": "markdown",
      "source": [
        "# LIMPIEZA"
      ],
      "metadata": {
        "id": "o-WoS9cjuQkU"
      }
    },
    {
      "cell_type": "code",
      "source": [
        "# Vemos si hay campos nulos en alguna columna\n",
        "colSums(is.na(df_wine))"
      ],
      "metadata": {
        "id": "UjSbMc0kuNXo"
      },
      "execution_count": null,
      "outputs": []
    },
    {
      "cell_type": "markdown",
      "source": [
        "Como el data set esta limpio, y esta baleanceado. Por lo tanto se comienza a entrenar."
      ],
      "metadata": {
        "id": "Z4bc6_57gzny"
      }
    },
    {
      "cell_type": "markdown",
      "source": [
        "Pero una propuesta para baleancear los datos, seria duplicar aleatoriamente instancias de la clase en el conjunto de datos. Esto se logra mediante la replicación de las filas correspondientes a esa clase."
      ],
      "metadata": {
        "id": "0B7vDmUWjSjR"
      }
    },
    {
      "cell_type": "code",
      "source": [
        "#importamos la libreria\n",
        "library(e1071)\n",
        "library(randomForest)\n",
        "library(dplyr)\n",
        "library(caret)\n",
        "library(reshape2)\n",
        "library(fastDummies)"
      ],
      "metadata": {
        "id": "vI2gcQcrKEBn"
      },
      "execution_count": null,
      "outputs": []
    },
    {
      "cell_type": "markdown",
      "source": [
        "# SVM"
      ],
      "metadata": {
        "id": "yaTUZxehZJFn"
      }
    },
    {
      "cell_type": "code",
      "source": [
        "columnas_a_castear <- c('quality')\n",
        "# Utilizamos fastDummies para convertir las columnas en filas\n",
        "df_wineSVM <- fastDummies::dummy_cols(df_wine, select_columns = columnas_a_castear)"
      ],
      "metadata": {
        "id": "Nb5AjpmYNJ-X"
      },
      "execution_count": 7,
      "outputs": []
    },
    {
      "cell_type": "code",
      "source": [
        "str(df_wineSVM)"
      ],
      "metadata": {
        "id": "GxDqRBefO91w"
      },
      "execution_count": null,
      "outputs": []
    },
    {
      "cell_type": "code",
      "source": [
        "df_wineSVM$quality_good <- factor(df_wineSVM$quality_good)"
      ],
      "metadata": {
        "id": "JS6yMvulYzbn"
      },
      "execution_count": 10,
      "outputs": []
    },
    {
      "cell_type": "code",
      "source": [
        "# Eliminamos las columnas en df_credit_cardSVM\n",
        "df_wineSVM <- df_wineSVM[, !(names(df_wineSVM) %in% columnas_a_castear)]"
      ],
      "metadata": {
        "id": "il7dgKdTPMmu"
      },
      "execution_count": 11,
      "outputs": []
    },
    {
      "cell_type": "code",
      "source": [
        "table(df_wineSVM$quality_good)"
      ],
      "metadata": {
        "id": "ASC_Ti1-PPJ-"
      },
      "execution_count": null,
      "outputs": []
    },
    {
      "cell_type": "code",
      "source": [
        "set.seed(2023) #seteamos la semilla para que el experimento sea reproducible\n",
        "t.ids <- createDataPartition(df_wineSVM$quality_good, p =0.7, list=F) #particionamos el df en 70% para entrenamiento y 30% para prueba\n",
        "modelo <- svm(quality_good ~ ., data = df_wineSVM[t.ids, ]) #entrenamiento\n",
        "prediccion <- predict(modelo, df_wineSVM[-t.ids, ]) #prueba\n",
        "matriz_confusion <- table(df_wineSVM$quality_good[-t.ids], prediccion, dnn = c('Real', 'Predicho')) #creamos una matriz de confusión"
      ],
      "metadata": {
        "id": "9P0LFzbvPPrJ"
      },
      "execution_count": 13,
      "outputs": []
    },
    {
      "cell_type": "code",
      "source": [
        "print(matriz_confusion)"
      ],
      "metadata": {
        "id": "Su7c6vObTtVt"
      },
      "execution_count": null,
      "outputs": []
    },
    {
      "cell_type": "code",
      "source": [
        "sum(prediccion != df_wineSVM$quality_good[-t.ids])/length(df_wineSVM$quality_good[-t.ids])"
      ],
      "metadata": {
        "id": "HMFdMxofTu1-"
      },
      "execution_count": null,
      "outputs": []
    },
    {
      "cell_type": "code",
      "source": [
        "1 - sum(diag(matriz_confusion)) / sum(matriz_confusion)"
      ],
      "metadata": {
        "id": "ypMWgoBJTxRo"
      },
      "execution_count": null,
      "outputs": []
    },
    {
      "cell_type": "code",
      "source": [
        "# Precisión\n",
        "precision <- (matriz_confusion[1, 1] + matriz_confusion[2, 2]) / sum(matriz_confusion)\n",
        "\n",
        "# Sensibilidad (Recall)\n",
        "sensibilidad <- matriz_confusion[2, 2] / sum(matriz_confusion[2, ])\n",
        "\n",
        "print(precision)\n",
        "print(sensibilidad)"
      ],
      "metadata": {
        "id": "jQTNcMj4TzSP"
      },
      "execution_count": null,
      "outputs": []
    },
    {
      "cell_type": "markdown",
      "source": [
        "Hacemos 100 Pasadas"
      ],
      "metadata": {
        "id": "n5q7Z_FTaBxY"
      }
    },
    {
      "cell_type": "code",
      "source": [
        "# Inicializamos vectores para almacenar los resultados\n",
        "precision_vector <- numeric(100)\n",
        "sensibilidad_vector <- numeric(100)\n",
        "\n",
        "# Establecemos la semilla para reproducibilidad\n",
        "set.seed(2023)\n",
        "\n",
        "# Realizamos 100 pasadas\n",
        "for (i in 1:100) {\n",
        "  # Particionamos los datos\n",
        "  t.ids <- createDataPartition(df_wineSVM$quality_good, p = 0.7, list = FALSE)\n",
        "\n",
        "  # Entrenamos el modelo\n",
        "  modelo <- svm(quality_good ~ ., data = df_wineSVM[t.ids, ])\n",
        "\n",
        "  # Realizamos la predicción\n",
        "  prediccion <- predict(modelo, df_wineSVM[-t.ids, ])\n",
        "\n",
        "  # Creamos una matriz de confusión\n",
        "  matriz_confusion <- table(df_wineSVM$quality_good[-t.ids], prediccion, dnn = c('Real', 'Predicho'))\n",
        "\n",
        "  # Calculamos la precisión y sensibilidad\n",
        "  precision <- (matriz_confusion[1, 1] + matriz_confusion[2, 2]) / sum(matriz_confusion)\n",
        "  sensibilidad <- matriz_confusion[2, 2] / sum(matriz_confusion[2, ])\n",
        "\n",
        "  # Almacenamos los resultados en los vectores\n",
        "  precision_vector[i] <- precision\n",
        "  sensibilidad_vector[i] <- sensibilidad\n",
        "}\n",
        "\n",
        "# Calculamos el promedio de la precisión y sensibilidad\n",
        "promedio_precision <- mean(precision_vector)\n",
        "promedio_sensibilidad <- mean(sensibilidad_vector)\n",
        "\n",
        "# Imprimimos los resultados\n",
        "print(paste(\"Promedio de Precisión:\", promedio_precision))\n",
        "print(paste(\"Promedio de Sensibilidad:\", promedio_sensibilidad))\n"
      ],
      "metadata": {
        "colab": {
          "base_uri": "https://localhost:8080/"
        },
        "id": "J6FoOn4IZ-2d",
        "outputId": "1518f94f-922c-41da-a67d-8edd342e4b22"
      },
      "execution_count": 16,
      "outputs": [
        {
          "output_type": "stream",
          "name": "stdout",
          "text": [
            "[1] \"Promedio de Precisión: 0.994634655532359\"\n",
            "[1] \"Promedio de Sensibilidad: 0.994765625\"\n"
          ]
        }
      ]
    },
    {
      "cell_type": "markdown",
      "source": [
        "# RANDONFOREST"
      ],
      "metadata": {
        "id": "QVUp-_ROZHfC"
      }
    },
    {
      "cell_type": "code",
      "source": [
        "set.seed(2023)\n",
        "t.ids <- createDataPartition(df_wineSVM$quality_good, p =0.7, list=F)\n",
        "modelo_rf <- randomForest(quality_good ~ ., data = df_wineSVM[t.ids, ])\n",
        "prediccion_rf <- predict(modelo_rf, newdata = df_wineSVM[-t.ids, ])\n",
        "matriz_confusion <- table(prediccion_rf, df_wineSVM$quality_good[-t.ids], dnn = c('Real' ,'Predicho'))"
      ],
      "metadata": {
        "id": "OfWn9VUrZ2KD"
      },
      "execution_count": 74,
      "outputs": []
    },
    {
      "cell_type": "code",
      "source": [
        "print(matriz_confusion)"
      ],
      "metadata": {
        "id": "vzUDsVhoaC_g"
      },
      "execution_count": null,
      "outputs": []
    },
    {
      "cell_type": "code",
      "source": [
        "1 - sum(diag(matriz_confusion)) / sum(matriz_confusion)"
      ],
      "metadata": {
        "id": "LwOxjktFaGma"
      },
      "execution_count": null,
      "outputs": []
    },
    {
      "cell_type": "code",
      "source": [
        "# Precisión\n",
        "precision <- (matriz_confusion[1, 1] + matriz_confusion[2, 2]) / sum(matriz_confusion)\n",
        "\n",
        "# Sensibilidad (Recall)\n",
        "sensibilidad <- matriz_confusion[2, 2] / sum(matriz_confusion[2, ])\n",
        "\n",
        "print(precision)\n",
        "print(sensibilidad)"
      ],
      "metadata": {
        "id": "HfQh5YUUaIKc"
      },
      "execution_count": null,
      "outputs": []
    },
    {
      "cell_type": "markdown",
      "source": [
        "Hacemos 100 pasadas"
      ],
      "metadata": {
        "id": "5fezImWncJSV"
      }
    },
    {
      "cell_type": "code",
      "source": [
        "# Inicializamos vectores para almacenar los resultados\n",
        "precision_vector_rf <- numeric(100)\n",
        "sensibilidad_vector_rf <- numeric(100)\n",
        "\n",
        "# Establecemos la semilla para reproducibilidad\n",
        "set.seed(2023)\n",
        "\n",
        "# Realizamos 100 pasadas\n",
        "for (i in 1:100) {\n",
        "  # Particionamos los datos\n",
        "  t.ids <- createDataPartition(df_wineSVM$quality_good, p = 0.7, list = FALSE)\n",
        "\n",
        "  # Entrenamos el modelo de Random Forest\n",
        "  modelo_rf <- randomForest(quality_good ~ ., data = df_wineSVM[t.ids, ])\n",
        "\n",
        "  # Realizamos la predicción con Random Forest\n",
        "  prediccion_rf <- predict(modelo_rf, newdata = df_wineSVM[-t.ids, ])\n",
        "\n",
        "  # Creamos una matriz de confusión\n",
        "  matriz_confusion_rf <- table(prediccion_rf, df_wineSVM$quality_good[-t.ids], dnn = c('Real', 'Predicho'))\n",
        "\n",
        "  # Calculamos la precisión y sensibilidad con Random Forest\n",
        "  precision_rf <- (matriz_confusion_rf[1, 1] + matriz_confusion_rf[2, 2]) / sum(matriz_confusion_rf)\n",
        "  sensibilidad_rf <- matriz_confusion_rf[2, 2] / sum(matriz_confusion_rf[2, ])\n",
        "\n",
        "  # Almacenamos los resultados en los vectores\n",
        "  precision_vector_rf[i] <- precision_rf\n",
        "  sensibilidad_vector_rf[i] <- sensibilidad_rf\n",
        "}\n",
        "\n",
        "# Calculamos el promedio de la precisión y sensibilidad con Random Forest\n",
        "promedio_precision_rf <- mean(precision_vector_rf)\n",
        "promedio_sensibilidad_rf <- mean(sensibilidad_vector_rf)\n",
        "\n",
        "# Imprimimos los resultados con Random Forest\n",
        "print(paste(\"Promedio de Precisión con Random Forest:\", promedio_precision_rf))\n",
        "print(paste(\"Promedio de Sensibilidad con Random Forest:\", promedio_sensibilidad_rf))\n"
      ],
      "metadata": {
        "colab": {
          "base_uri": "https://localhost:8080/"
        },
        "id": "AGcwVyOEcLb4",
        "outputId": "5a387bae-d662-4f77-fc77-113cc16c1688"
      },
      "execution_count": 17,
      "outputs": [
        {
          "output_type": "stream",
          "name": "stdout",
          "text": [
            "[1] \"Promedio de Precisión con Random Forest: 1\"\n",
            "[1] \"Promedio de Sensibilidad con Random Forest: 1\"\n"
          ]
        }
      ]
    },
    {
      "cell_type": "markdown",
      "source": [
        "# Redes Neuronales"
      ],
      "metadata": {
        "id": "A-7LgL8EZL3e"
      }
    },
    {
      "cell_type": "code",
      "source": [
        "install.packages('neuralnet')#para trabajar con redes neuronales"
      ],
      "metadata": {
        "id": "0eogIZCJbdMz"
      },
      "execution_count": null,
      "outputs": []
    },
    {
      "cell_type": "code",
      "source": [
        "# Instala y carga el paquete neuralnet si aún no lo has hecho\n",
        "# install.packages(\"neuralnet\")\n",
        "library(neuralnet)"
      ],
      "metadata": {
        "id": "-k2kR9icbXeY"
      },
      "execution_count": null,
      "outputs": []
    },
    {
      "cell_type": "code",
      "source": [
        "# Configuración de la semilla para reproducibilidad\n",
        "set.seed(2023)\n",
        "\n",
        "# Partición de datos\n",
        "t.ids <- createDataPartition(df_wineSVM$quality_good, p = 0.7, list = FALSE)\n",
        "\n",
        "# Creación del objeto formula\n",
        "formula <- as.formula(\"quality_good ~ .\")\n",
        "\n",
        "# Creación del modelo de red neuronal\n",
        "modelo <- neuralnet(\n",
        "  formula,\n",
        "  data = df_wineSVM[t.ids, ],\n",
        "  hidden = c(5, 2), # Número de neuronas en las capas ocultas\n",
        "  linear.output = TRUE # Utiliza salida lineal\n",
        ")\n",
        "\n",
        "# Predicciones\n",
        "prediccion <- predict(modelo, newdata = df_wineSVM[-t.ids, ])\n",
        "prediccion_binaria <- ifelse(prediccion[, 1] > 1, 0, 1)\n",
        "\n",
        "# Matriz de confusión\n",
        "matriz_confusion <- table(\n",
        "  Real = df_wineSVM$quality_good[-t.ids],\n",
        "  Predicho = prediccion_binaria\n",
        ")\n",
        "\n"
      ],
      "metadata": {
        "id": "q_3wQPnFIRw-"
      },
      "execution_count": 30,
      "outputs": []
    },
    {
      "cell_type": "code",
      "source": [
        "print(matriz_confusion)"
      ],
      "metadata": {
        "id": "K-tLi3L-HjvM"
      },
      "execution_count": null,
      "outputs": []
    },
    {
      "cell_type": "code",
      "source": [
        "# Precisión\n",
        "precision <- (matriz_confusion[1, 1] + matriz_confusion[2, 2]) / sum(matriz_confusion)\n",
        "\n",
        "# Sensibilidad (Recall)\n",
        "sensibilidad <- matriz_confusion[2, 2] / sum(matriz_confusion[2, ])\n",
        "\n",
        "print(precision)\n",
        "print(sensibilidad)"
      ],
      "metadata": {
        "id": "Zlb3c-PFXInG"
      },
      "execution_count": null,
      "outputs": []
    },
    {
      "cell_type": "markdown",
      "source": [
        "Hacemos 100 pasadas"
      ],
      "metadata": {
        "id": "4tQbF0iAcwQv"
      }
    },
    {
      "cell_type": "code",
      "source": [
        "# Inicializamos vectores para almacenar los resultados\n",
        "precision_vector_nn <- numeric(100)\n",
        "sensibilidad_vector_nn <- numeric(100)\n",
        "\n",
        "# Configuración de la semilla para reproducibilidad\n",
        "set.seed(2023)\n",
        "\n",
        "# Realizamos 100 pasadas\n",
        "for (i in 1:100) {\n",
        "  # Particionamos los datos\n",
        "  t.ids <- createDataPartition(df_wineSVM$quality_good, p = 0.7, list = FALSE)\n",
        "\n",
        "  # Creación del modelo de red neuronal\n",
        "  modelo <- neuralnet(\n",
        "    formula,\n",
        "    data = df_wineSVM[t.ids, ],\n",
        "    hidden = c(5, 2), # Número de neuronas en las capas ocultas\n",
        "    linear.output = TRUE # Utiliza salida lineal\n",
        "  )\n",
        "\n",
        "  # Realizamos la predicción con la red neuronal\n",
        "  prediccion <- predict(modelo, newdata = df_wineSVM[-t.ids, ], type = \"response\")\n",
        "  prediccion_binaria <- ifelse(prediccion > 1, 0, 1)\n",
        "\n",
        "  # Creamos una matriz de confusión\n",
        "  matriz_confusion_nn <- table(\n",
        "    Real = df_wineSVM$quality_good[-t.ids][1:length(prediccion_binaria)],\n",
        "    Predicho = prediccion_binaria\n",
        "  )\n",
        "\n",
        "  # Calculamos la precisión y sensibilidad con la red neuronal\n",
        "  precision_nn <- (matriz_confusion_nn[\"0\", \"0\"] + matriz_confusion_nn[\"1\", \"1\"]) / sum(matriz_confusion_nn)\n",
        "  sensibilidad_nn <- matriz_confusion_nn[\"1\", \"1\"] / sum(matriz_confusion_nn[\"1\", ])\n",
        "\n",
        "  # Almacenamos los resultados en los vectores\n",
        "  precision_vector_nn[i] <- precision_nn\n",
        "  sensibilidad_vector_nn[i] <- sensibilidad_nn\n",
        "}\n",
        "\n",
        "# Calculamos el promedio de la precisión y sensibilidad con la red neuronal\n",
        "promedio_precision_nn <- mean(precision_vector_nn, na.rm = TRUE)\n",
        "promedio_sensibilidad_nn <- mean(sensibilidad_vector_nn, na.rm = TRUE)\n",
        "\n",
        "# Imprimimos los resultados con la red neuronal\n",
        "print(paste(\"Promedio de Precisión con Red Neuronal:\", promedio_precision_nn))\n",
        "print(paste(\"Promedio de Sensibilidad con Red Neuronal:\", promedio_sensibilidad_nn))\n"
      ],
      "metadata": {
        "colab": {
          "base_uri": "https://localhost:8080/"
        },
        "id": "XcULWmvxczYC",
        "outputId": "0740885f-4ff8-4676-eed4-8bb9f75388a9"
      },
      "execution_count": 33,
      "outputs": [
        {
          "output_type": "stream",
          "name": "stdout",
          "text": [
            "[1] \"Promedio de Precisión con Red Neuronal: 0.867265135699374\"\n",
            "[1] \"Promedio de Sensibilidad con Red Neuronal: 1\"\n"
          ]
        }
      ]
    },
    {
      "cell_type": "markdown",
      "source": [
        "**Los Resultados**\n",
        "La precision del SVM es de 99%, la de Randon forest es de casi 100% y en cambio la precision de Red Neuronal es de 86%.\n",
        "\n",
        "**Conclusiones**\n",
        "SVM está mostrando un rendimiento excepcionalmente alto en términos de precisión, pero habria que evaluar si es por un sobreajuste.\n",
        "\n",
        "Random Forest al igual que con SVM, la precisión cercana al 100% en Random Forest sugiere un rendimiento excepcional. Sin embargo, al igual que antes, verifica si hay sobreajuste.\n",
        "\n",
        "Red Neuronal aunque esta precisión de la red neuronal es ligeramente inferior, es importante destacar que podría estar generalizando mejor a nuevos datos y poder aprender patrones mas complejos."
      ],
      "metadata": {
        "id": "-UrOwp1UYz9y"
      }
    }
  ]
}